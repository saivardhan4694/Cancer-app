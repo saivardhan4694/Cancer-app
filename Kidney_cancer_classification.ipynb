{
  "metadata": {
    "kernelspec": {
      "display_name": "Python 3",
      "name": "python3"
    },
    "language_info": {
      "pygments_lexer": "ipython3",
      "nbconvert_exporter": "python",
      "version": "3.6.4",
      "file_extension": ".py",
      "codemirror_mode": {
        "name": "ipython",
        "version": 3
      },
      "name": "python",
      "mimetype": "text/x-python"
    },
    "colab": {
      "provenance": [],
      "gpuType": "V28",
      "machine_shape": "hm",
      "include_colab_link": true
    },
    "accelerator": "TPU"
  },
  "nbformat_minor": 0,
  "nbformat": 4,
  "cells": [
    {
      "cell_type": "markdown",
      "metadata": {
        "id": "view-in-github",
        "colab_type": "text"
      },
      "source": [
        "<a href=\"https://colab.research.google.com/github/saivardhan4694/cancer-app/blob/main/Kidney_cancer_classification.ipynb\" target=\"_parent\"><img src=\"https://colab.research.google.com/assets/colab-badge.svg\" alt=\"Open In Colab\"/></a>"
      ]
    },
    {
      "source": [
        "!pip install opendatasets\n",
        "import opendatasets as op\n",
        "op.download(\"https://www.kaggle.com/datasets/nazmul0087/ct-kidney-dataset-normal-cyst-tumor-and-stone/data\")\n"
      ],
      "metadata": {
        "id": "LiApM-WQeOpH",
        "colab": {
          "base_uri": "https://localhost:8080/"
        },
        "outputId": "4094719f-7b4d-4cba-ae99-b6722dbdbe08"
      },
      "cell_type": "code",
      "outputs": [
        {
          "output_type": "stream",
          "name": "stdout",
          "text": [
            "Collecting opendatasets\n",
            "  Downloading opendatasets-0.1.22-py3-none-any.whl.metadata (9.2 kB)\n",
            "Requirement already satisfied: tqdm in /usr/local/lib/python3.10/dist-packages (from opendatasets) (4.66.6)\n",
            "Requirement already satisfied: kaggle in /usr/local/lib/python3.10/dist-packages (from opendatasets) (1.6.17)\n",
            "Requirement already satisfied: click in /usr/local/lib/python3.10/dist-packages (from opendatasets) (8.1.7)\n",
            "Requirement already satisfied: six>=1.10 in /usr/local/lib/python3.10/dist-packages (from kaggle->opendatasets) (1.16.0)\n",
            "Requirement already satisfied: certifi>=2023.7.22 in /usr/local/lib/python3.10/dist-packages (from kaggle->opendatasets) (2024.8.30)\n",
            "Requirement already satisfied: python-dateutil in /usr/local/lib/python3.10/dist-packages (from kaggle->opendatasets) (2.9.0.post0)\n",
            "Requirement already satisfied: requests in /usr/local/lib/python3.10/dist-packages (from kaggle->opendatasets) (2.32.3)\n",
            "Requirement already satisfied: python-slugify in /usr/local/lib/python3.10/dist-packages (from kaggle->opendatasets) (8.0.4)\n",
            "Requirement already satisfied: urllib3 in /usr/local/lib/python3.10/dist-packages (from kaggle->opendatasets) (2.2.3)\n",
            "Requirement already satisfied: bleach in /usr/local/lib/python3.10/dist-packages (from kaggle->opendatasets) (6.2.0)\n",
            "Requirement already satisfied: webencodings in /usr/local/lib/python3.10/dist-packages (from bleach->kaggle->opendatasets) (0.5.1)\n",
            "Requirement already satisfied: text-unidecode>=1.3 in /usr/local/lib/python3.10/dist-packages (from python-slugify->kaggle->opendatasets) (1.3)\n",
            "Requirement already satisfied: charset-normalizer<4,>=2 in /usr/local/lib/python3.10/dist-packages (from requests->kaggle->opendatasets) (3.4.0)\n",
            "Requirement already satisfied: idna<4,>=2.5 in /usr/local/lib/python3.10/dist-packages (from requests->kaggle->opendatasets) (3.10)\n",
            "Downloading opendatasets-0.1.22-py3-none-any.whl (15 kB)\n",
            "Installing collected packages: opendatasets\n",
            "Successfully installed opendatasets-0.1.22\n",
            "Please provide your Kaggle credentials to download this dataset. Learn more: http://bit.ly/kaggle-creds\n",
            "Your Kaggle username: makkapatimrk\n",
            "Your Kaggle Key: ··········\n",
            "Dataset URL: https://www.kaggle.com/datasets/nazmul0087/ct-kidney-dataset-normal-cyst-tumor-and-stone\n",
            "Downloading ct-kidney-dataset-normal-cyst-tumor-and-stone.zip to ./ct-kidney-dataset-normal-cyst-tumor-and-stone\n"
          ]
        },
        {
          "output_type": "stream",
          "name": "stderr",
          "text": [
            "100%|██████████| 1.52G/1.52G [00:06<00:00, 233MB/s]\n"
          ]
        },
        {
          "output_type": "stream",
          "name": "stdout",
          "text": [
            "\n"
          ]
        }
      ],
      "execution_count": null
    },
    {
      "cell_type": "code",
      "source": [
        "!pip install split-folders"
      ],
      "metadata": {
        "_uuid": "8f2839f25d086af736a60e9eeb907d3b93b6e0e5",
        "_cell_guid": "b1076dfc-b9ad-4769-8c92-a6c4dae69d19",
        "execution": {
          "iopub.status.busy": "2023-08-07T14:26:19.890011Z",
          "iopub.execute_input": "2023-08-07T14:26:19.890739Z",
          "iopub.status.idle": "2023-08-07T14:26:33.864605Z",
          "shell.execute_reply.started": "2023-08-07T14:26:19.89069Z",
          "shell.execute_reply": "2023-08-07T14:26:33.863268Z"
        },
        "trusted": true,
        "id": "fCFwj-5beOpJ",
        "colab": {
          "base_uri": "https://localhost:8080/"
        },
        "outputId": "403e108d-fbbd-4832-db73-6f6e4be61b32"
      },
      "execution_count": null,
      "outputs": [
        {
          "output_type": "stream",
          "name": "stdout",
          "text": [
            "Collecting split-folders\n",
            "  Downloading split_folders-0.5.1-py3-none-any.whl.metadata (6.2 kB)\n",
            "Downloading split_folders-0.5.1-py3-none-any.whl (8.4 kB)\n",
            "Installing collected packages: split-folders\n",
            "Successfully installed split-folders-0.5.1\n"
          ]
        }
      ]
    },
    {
      "cell_type": "code",
      "source": [
        "import splitfolders\n",
        "splitfolders.ratio(\n",
        "    \"/content/ct-kidney-dataset-normal-cyst-tumor-and-stone/CT-KIDNEY-DATASET-Normal-Cyst-Tumor-Stone/CT-KIDNEY-DATASET-Normal-Cyst-Tumor-Stone\",\n",
        "   output=\"./dataset\",\n",
        "   seed=7,\n",
        "   ratio=(0.7,0.15, 0.15)\n",
        ")"
      ],
      "metadata": {
        "scrolled": true,
        "execution": {
          "iopub.status.busy": "2023-08-07T14:26:43.224283Z",
          "iopub.execute_input": "2023-08-07T14:26:43.224965Z",
          "iopub.status.idle": "2023-08-07T14:28:52.030293Z",
          "shell.execute_reply.started": "2023-08-07T14:26:43.224928Z",
          "shell.execute_reply": "2023-08-07T14:28:52.029359Z"
        },
        "trusted": true,
        "id": "MFKDRf9JeOpK",
        "colab": {
          "base_uri": "https://localhost:8080/"
        },
        "outputId": "5ebfb21b-5bea-46a8-85a5-44b7451f231c"
      },
      "execution_count": null,
      "outputs": [
        {
          "output_type": "stream",
          "name": "stderr",
          "text": [
            "Copying files: 12446 files [00:03, 4049.10 files/s]\n"
          ]
        }
      ]
    },
    {
      "cell_type": "code",
      "source": [
        "!pip install tensorflow\n",
        "from tensorflow.keras.preprocessing.image import ImageDataGenerator"
      ],
      "metadata": {
        "colab": {
          "base_uri": "https://localhost:8080/"
        },
        "id": "2kYT6dqIfze4",
        "outputId": "3c046aa1-d7e2-4b29-b519-d8f2ad26db25"
      },
      "execution_count": null,
      "outputs": [
        {
          "output_type": "stream",
          "name": "stdout",
          "text": [
            "Requirement already satisfied: tensorflow in /usr/local/lib/python3.10/dist-packages (2.15.0)\n",
            "Requirement already satisfied: absl-py>=1.0.0 in /usr/local/lib/python3.10/dist-packages (from tensorflow) (1.4.0)\n",
            "Requirement already satisfied: astunparse>=1.6.0 in /usr/local/lib/python3.10/dist-packages (from tensorflow) (1.6.3)\n",
            "Requirement already satisfied: flatbuffers>=23.5.26 in /usr/local/lib/python3.10/dist-packages (from tensorflow) (24.3.25)\n",
            "Requirement already satisfied: gast!=0.5.0,!=0.5.1,!=0.5.2,>=0.2.1 in /usr/local/lib/python3.10/dist-packages (from tensorflow) (0.6.0)\n",
            "Requirement already satisfied: google-pasta>=0.1.1 in /usr/local/lib/python3.10/dist-packages (from tensorflow) (0.2.0)\n",
            "Requirement already satisfied: h5py>=2.9.0 in /usr/local/lib/python3.10/dist-packages (from tensorflow) (3.12.1)\n",
            "Requirement already satisfied: libclang>=13.0.0 in /usr/local/lib/python3.10/dist-packages (from tensorflow) (18.1.1)\n",
            "Requirement already satisfied: ml-dtypes~=0.2.0 in /usr/local/lib/python3.10/dist-packages (from tensorflow) (0.2.0)\n",
            "Requirement already satisfied: numpy<2.0.0,>=1.23.5 in /usr/local/lib/python3.10/dist-packages (from tensorflow) (1.26.4)\n",
            "Requirement already satisfied: opt-einsum>=2.3.2 in /usr/local/lib/python3.10/dist-packages (from tensorflow) (3.4.0)\n",
            "Requirement already satisfied: packaging in /usr/local/lib/python3.10/dist-packages (from tensorflow) (24.2)\n",
            "Requirement already satisfied: protobuf!=4.21.0,!=4.21.1,!=4.21.2,!=4.21.3,!=4.21.4,!=4.21.5,<5.0.0dev,>=3.20.3 in /usr/local/lib/python3.10/dist-packages (from tensorflow) (4.25.5)\n",
            "Requirement already satisfied: setuptools in /usr/local/lib/python3.10/dist-packages (from tensorflow) (75.1.0)\n",
            "Requirement already satisfied: six>=1.12.0 in /usr/local/lib/python3.10/dist-packages (from tensorflow) (1.16.0)\n",
            "Requirement already satisfied: termcolor>=1.1.0 in /usr/local/lib/python3.10/dist-packages (from tensorflow) (2.5.0)\n",
            "Requirement already satisfied: typing-extensions>=3.6.6 in /usr/local/lib/python3.10/dist-packages (from tensorflow) (4.12.2)\n",
            "Requirement already satisfied: wrapt<1.15,>=1.11.0 in /usr/local/lib/python3.10/dist-packages (from tensorflow) (1.14.1)\n",
            "Requirement already satisfied: tensorflow-io-gcs-filesystem>=0.23.1 in /usr/local/lib/python3.10/dist-packages (from tensorflow) (0.37.1)\n",
            "Requirement already satisfied: grpcio<2.0,>=1.24.3 in /usr/local/lib/python3.10/dist-packages (from tensorflow) (1.67.1)\n",
            "Requirement already satisfied: tensorboard<2.16,>=2.15 in /usr/local/lib/python3.10/dist-packages (from tensorflow) (2.15.2)\n",
            "Requirement already satisfied: tensorflow-estimator<2.16,>=2.15.0 in /usr/local/lib/python3.10/dist-packages (from tensorflow) (2.15.0)\n",
            "Requirement already satisfied: keras<2.16,>=2.15.0 in /usr/local/lib/python3.10/dist-packages (from tensorflow) (2.15.0)\n",
            "Requirement already satisfied: wheel<1.0,>=0.23.0 in /usr/local/lib/python3.10/dist-packages (from astunparse>=1.6.0->tensorflow) (0.45.0)\n",
            "Requirement already satisfied: google-auth<3,>=1.6.3 in /usr/local/lib/python3.10/dist-packages (from tensorboard<2.16,>=2.15->tensorflow) (2.27.0)\n",
            "Requirement already satisfied: google-auth-oauthlib<2,>=0.5 in /usr/local/lib/python3.10/dist-packages (from tensorboard<2.16,>=2.15->tensorflow) (1.2.1)\n",
            "Requirement already satisfied: markdown>=2.6.8 in /usr/local/lib/python3.10/dist-packages (from tensorboard<2.16,>=2.15->tensorflow) (3.7)\n",
            "Requirement already satisfied: requests<3,>=2.21.0 in /usr/local/lib/python3.10/dist-packages (from tensorboard<2.16,>=2.15->tensorflow) (2.32.3)\n",
            "Requirement already satisfied: tensorboard-data-server<0.8.0,>=0.7.0 in /usr/local/lib/python3.10/dist-packages (from tensorboard<2.16,>=2.15->tensorflow) (0.7.2)\n",
            "Requirement already satisfied: werkzeug>=1.0.1 in /usr/local/lib/python3.10/dist-packages (from tensorboard<2.16,>=2.15->tensorflow) (3.1.3)\n",
            "Requirement already satisfied: cachetools<6.0,>=2.0.0 in /usr/local/lib/python3.10/dist-packages (from google-auth<3,>=1.6.3->tensorboard<2.16,>=2.15->tensorflow) (5.5.0)\n",
            "Requirement already satisfied: pyasn1-modules>=0.2.1 in /usr/local/lib/python3.10/dist-packages (from google-auth<3,>=1.6.3->tensorboard<2.16,>=2.15->tensorflow) (0.4.1)\n",
            "Requirement already satisfied: rsa<5,>=3.1.4 in /usr/local/lib/python3.10/dist-packages (from google-auth<3,>=1.6.3->tensorboard<2.16,>=2.15->tensorflow) (4.9)\n",
            "Requirement already satisfied: requests-oauthlib>=0.7.0 in /usr/local/lib/python3.10/dist-packages (from google-auth-oauthlib<2,>=0.5->tensorboard<2.16,>=2.15->tensorflow) (2.0.0)\n",
            "Requirement already satisfied: charset-normalizer<4,>=2 in /usr/local/lib/python3.10/dist-packages (from requests<3,>=2.21.0->tensorboard<2.16,>=2.15->tensorflow) (3.4.0)\n",
            "Requirement already satisfied: idna<4,>=2.5 in /usr/local/lib/python3.10/dist-packages (from requests<3,>=2.21.0->tensorboard<2.16,>=2.15->tensorflow) (3.10)\n",
            "Requirement already satisfied: urllib3<3,>=1.21.1 in /usr/local/lib/python3.10/dist-packages (from requests<3,>=2.21.0->tensorboard<2.16,>=2.15->tensorflow) (2.2.3)\n",
            "Requirement already satisfied: certifi>=2017.4.17 in /usr/local/lib/python3.10/dist-packages (from requests<3,>=2.21.0->tensorboard<2.16,>=2.15->tensorflow) (2024.8.30)\n",
            "Requirement already satisfied: MarkupSafe>=2.1.1 in /usr/local/lib/python3.10/dist-packages (from werkzeug>=1.0.1->tensorboard<2.16,>=2.15->tensorflow) (3.0.2)\n",
            "Requirement already satisfied: pyasn1<0.7.0,>=0.4.6 in /usr/local/lib/python3.10/dist-packages (from pyasn1-modules>=0.2.1->google-auth<3,>=1.6.3->tensorboard<2.16,>=2.15->tensorflow) (0.6.1)\n",
            "Requirement already satisfied: oauthlib>=3.0.0 in /usr/local/lib/python3.10/dist-packages (from requests-oauthlib>=0.7.0->google-auth-oauthlib<2,>=0.5->tensorboard<2.16,>=2.15->tensorflow) (3.2.2)\n"
          ]
        }
      ]
    },
    {
      "cell_type": "code",
      "source": [
        "train_datagen = ImageDataGenerator(rescale = 1/255.0,\n",
        "     rotation_range=20,\n",
        "      width_shift_range=0.2,\n",
        "      height_shift_range=0.2,\n",
        "      zoom_range = 0.2,\n",
        "     vertical_flip=True,\n",
        "     horizontal_flip = True,\n",
        "    fill_mode=\"reflect\"\n",
        ")\n",
        "\n",
        "\n",
        "train_generator = train_datagen.flow_from_directory(\n",
        "    './dataset/train',\n",
        "    target_size=(224, 224),\n",
        "    class_mode='categorical',\n",
        "    batch_size = 64,)\n",
        "\n",
        "val_datagen = ImageDataGenerator(rescale = 1/255.0)\n",
        "\n",
        "\n",
        "val_generator = train_datagen.flow_from_directory(\n",
        "     './dataset/val',\n",
        "    target_size=(224, 224),\n",
        "    class_mode='categorical',\n",
        "    batch_size = 64,)"
      ],
      "metadata": {
        "execution": {
          "iopub.status.busy": "2023-08-07T14:28:52.033071Z",
          "iopub.execute_input": "2023-08-07T14:28:52.03364Z",
          "iopub.status.idle": "2023-08-07T14:28:52.595592Z",
          "shell.execute_reply.started": "2023-08-07T14:28:52.033606Z",
          "shell.execute_reply": "2023-08-07T14:28:52.594671Z"
        },
        "trusted": true,
        "id": "-L3xDeO1eOpK",
        "colab": {
          "base_uri": "https://localhost:8080/"
        },
        "outputId": "25ebd737-5e96-4ca2-a490-44d89e556560"
      },
      "execution_count": null,
      "outputs": [
        {
          "output_type": "stream",
          "name": "stdout",
          "text": [
            "Found 8710 images belonging to 4 classes.\n",
            "Found 1865 images belonging to 4 classes.\n"
          ]
        }
      ]
    },
    {
      "cell_type": "code",
      "source": [
        "from tensorflow.keras.callbacks import LearningRateScheduler\n",
        "from tensorflow.keras.regularizers import l2\n",
        "\n",
        "def lr_scheduler(epoch, lr):\n",
        "    if epoch % 10 == 0 and epoch > 0:\n",
        "        if lr > 0.0001:\n",
        "            lr *= 0.1\n",
        "    return lr\n",
        "\n",
        "lr_scheduler_callback = LearningRateScheduler(lr_scheduler)\n",
        "\n",
        "callbacks = [lr_scheduler_callback]\n"
      ],
      "metadata": {
        "execution": {
          "iopub.status.busy": "2023-08-07T14:28:52.596931Z",
          "iopub.execute_input": "2023-08-07T14:28:52.59729Z",
          "iopub.status.idle": "2023-08-07T14:28:52.606588Z",
          "shell.execute_reply.started": "2023-08-07T14:28:52.597255Z",
          "shell.execute_reply": "2023-08-07T14:28:52.605729Z"
        },
        "trusted": true,
        "id": "FDHBkmAGeOpK"
      },
      "execution_count": null,
      "outputs": []
    },
    {
      "cell_type": "code",
      "source": [
        "from tensorflow.keras.layers import Layer, Conv2D, Concatenate, Multiply\n",
        "import tensorflow as tf\n",
        "\n",
        "class spatial_attention(Layer):\n",
        "    def __init__(self):\n",
        "        super(spatial_attention, self).__init__()\n",
        "\n",
        "        self.conv2d = Conv2D(1, kernel_size=3, padding=\"same\", activation=\"sigmoid\")\n",
        "\n",
        "    def call(self, inputs):\n",
        "        x1 = tf.reduce_mean(inputs, axis=-1)\n",
        "        x1 = tf.expand_dims(x1, axis=-1)\n",
        "\n",
        "        x2 = tf.reduce_max(inputs, axis=-1)\n",
        "        x2 = tf.expand_dims(x2, axis=-1)\n",
        "\n",
        "        feats = Concatenate()([x1, x2])\n",
        "        feats = self.conv2d(feats)\n",
        "        feats = Multiply()([inputs, feats])\n",
        "\n",
        "        return feats"
      ],
      "metadata": {
        "execution": {
          "iopub.status.busy": "2023-08-07T14:28:52.607996Z",
          "iopub.execute_input": "2023-08-07T14:28:52.608537Z",
          "iopub.status.idle": "2023-08-07T14:28:52.618226Z",
          "shell.execute_reply.started": "2023-08-07T14:28:52.6085Z",
          "shell.execute_reply": "2023-08-07T14:28:52.617358Z"
        },
        "trusted": true,
        "id": "jgE9DCYPeOpK"
      },
      "execution_count": null,
      "outputs": []
    },
    {
      "cell_type": "code",
      "source": [
        "from tensorflow.keras.models import Sequential\n",
        "from tensorflow.keras.layers import Conv2D, BatchNormalization, MaxPooling2D, Flatten, Dense, Dropout, GlobalAveragePooling2D\n",
        "from tensorflow.keras.regularizers import l2\n",
        "\n",
        "model = Sequential()\n",
        "model.add(Conv2D(32, (3, 3), activation='relu', padding='same', input_shape=(224, 224, 3), kernel_regularizer=l2(0.01)))\n",
        "model.add(spatial_attention())\n",
        "model.add(BatchNormalization())\n",
        "model.add(MaxPooling2D((2, 2),strides=(2, 2)))\n",
        "\n",
        "model.add(Conv2D(64, (3, 3), activation='relu', padding='same', kernel_regularizer=l2(0.01)))\n",
        "model.add(spatial_attention())\n",
        "model.add(BatchNormalization())\n",
        "model.add(MaxPooling2D((2, 2),strides=(2, 2)))\n",
        "\n",
        "model.add(Conv2D(128, (3, 3), activation='relu', padding='same', kernel_regularizer=l2(0.01)))\n",
        "model.add(spatial_attention())\n",
        "model.add(BatchNormalization())\n",
        "model.add(MaxPooling2D((2, 2),strides=(2, 2)))\n",
        "\n",
        "model.add(Conv2D(256, (3, 3), activation='relu', padding='same', kernel_regularizer=l2(0.01)))\n",
        "model.add(spatial_attention())\n",
        "model.add(BatchNormalization())\n",
        "model.add(MaxPooling2D((2, 2),strides=(2, 2)))\n",
        "\n",
        "model.add(Conv2D(512, (3, 3), activation='relu', padding='same', kernel_regularizer=l2(0.01)))\n",
        "model.add(spatial_attention())\n",
        "model.add(GlobalAveragePooling2D())\n",
        "\n",
        "\n",
        "model.add(Flatten())\n",
        "model.add(Dense(512, activation='relu', kernel_regularizer=l2(0.01)))\n",
        "model.add(BatchNormalization())\n",
        "model.add(Dropout(0.4))\n",
        "model.add(Dense(256, activation='relu', kernel_regularizer=l2(0.01)))\n",
        "model.add(BatchNormalization())\n",
        "model.add(Dropout(0.3))\n",
        "model.add(Dense(128, activation='relu', kernel_regularizer=l2(0.01)))\n",
        "model.add(BatchNormalization())\n",
        "model.add(Dropout(0.2))\n",
        "model.add(Dense(64, activation='relu', kernel_regularizer=l2(0.01)))\n",
        "model.add(BatchNormalization())\n",
        "model.add(Dense(4, activation='softmax'))"
      ],
      "metadata": {
        "execution": {
          "iopub.status.busy": "2023-08-07T14:28:52.620579Z",
          "iopub.execute_input": "2023-08-07T14:28:52.621214Z",
          "iopub.status.idle": "2023-08-07T14:28:56.14208Z",
          "shell.execute_reply.started": "2023-08-07T14:28:52.621182Z",
          "shell.execute_reply": "2023-08-07T14:28:56.141102Z"
        },
        "trusted": true,
        "id": "kvDPeGlNeOpK"
      },
      "execution_count": null,
      "outputs": []
    },
    {
      "cell_type": "code",
      "source": [
        "model.summary()"
      ],
      "metadata": {
        "execution": {
          "iopub.status.busy": "2023-08-07T14:28:56.143513Z",
          "iopub.execute_input": "2023-08-07T14:28:56.143867Z",
          "iopub.status.idle": "2023-08-07T14:28:56.220304Z",
          "shell.execute_reply.started": "2023-08-07T14:28:56.143831Z",
          "shell.execute_reply": "2023-08-07T14:28:56.219598Z"
        },
        "trusted": true,
        "id": "cpwe76w9eOpK",
        "colab": {
          "base_uri": "https://localhost:8080/"
        },
        "outputId": "ca81abb6-0882-42cd-841c-9f8128b36a6f"
      },
      "execution_count": null,
      "outputs": [
        {
          "output_type": "stream",
          "name": "stdout",
          "text": [
            "Model: \"sequential\"\n",
            "_________________________________________________________________\n",
            " Layer (type)                Output Shape              Param #   \n",
            "=================================================================\n",
            " conv2d (Conv2D)             (None, 224, 224, 32)      896       \n",
            "                                                                 \n",
            " spatial_attention (spatial  (None, 224, 224, 32)      19        \n",
            " _attention)                                                     \n",
            "                                                                 \n",
            " batch_normalization (Batch  (None, 224, 224, 32)      128       \n",
            " Normalization)                                                  \n",
            "                                                                 \n",
            " max_pooling2d (MaxPooling2  (None, 112, 112, 32)      0         \n",
            " D)                                                              \n",
            "                                                                 \n",
            " conv2d_2 (Conv2D)           (None, 112, 112, 64)      18496     \n",
            "                                                                 \n",
            " spatial_attention_1 (spati  (None, 112, 112, 64)      19        \n",
            " al_attention)                                                   \n",
            "                                                                 \n",
            " batch_normalization_1 (Bat  (None, 112, 112, 64)      256       \n",
            " chNormalization)                                                \n",
            "                                                                 \n",
            " max_pooling2d_1 (MaxPoolin  (None, 56, 56, 64)        0         \n",
            " g2D)                                                            \n",
            "                                                                 \n",
            " conv2d_4 (Conv2D)           (None, 56, 56, 128)       73856     \n",
            "                                                                 \n",
            " spatial_attention_2 (spati  (None, 56, 56, 128)       19        \n",
            " al_attention)                                                   \n",
            "                                                                 \n",
            " batch_normalization_2 (Bat  (None, 56, 56, 128)       512       \n",
            " chNormalization)                                                \n",
            "                                                                 \n",
            " max_pooling2d_2 (MaxPoolin  (None, 28, 28, 128)       0         \n",
            " g2D)                                                            \n",
            "                                                                 \n",
            " conv2d_6 (Conv2D)           (None, 28, 28, 256)       295168    \n",
            "                                                                 \n",
            " spatial_attention_3 (spati  (None, 28, 28, 256)       19        \n",
            " al_attention)                                                   \n",
            "                                                                 \n",
            " batch_normalization_3 (Bat  (None, 28, 28, 256)       1024      \n",
            " chNormalization)                                                \n",
            "                                                                 \n",
            " max_pooling2d_3 (MaxPoolin  (None, 14, 14, 256)       0         \n",
            " g2D)                                                            \n",
            "                                                                 \n",
            " conv2d_8 (Conv2D)           (None, 14, 14, 512)       1180160   \n",
            "                                                                 \n",
            " spatial_attention_4 (spati  (None, 14, 14, 512)       19        \n",
            " al_attention)                                                   \n",
            "                                                                 \n",
            " global_average_pooling2d (  (None, 512)               0         \n",
            " GlobalAveragePooling2D)                                         \n",
            "                                                                 \n",
            " flatten (Flatten)           (None, 512)               0         \n",
            "                                                                 \n",
            " dense (Dense)               (None, 512)               262656    \n",
            "                                                                 \n",
            " batch_normalization_4 (Bat  (None, 512)               2048      \n",
            " chNormalization)                                                \n",
            "                                                                 \n",
            " dropout (Dropout)           (None, 512)               0         \n",
            "                                                                 \n",
            " dense_1 (Dense)             (None, 256)               131328    \n",
            "                                                                 \n",
            " batch_normalization_5 (Bat  (None, 256)               1024      \n",
            " chNormalization)                                                \n",
            "                                                                 \n",
            " dropout_1 (Dropout)         (None, 256)               0         \n",
            "                                                                 \n",
            " dense_2 (Dense)             (None, 128)               32896     \n",
            "                                                                 \n",
            " batch_normalization_6 (Bat  (None, 128)               512       \n",
            " chNormalization)                                                \n",
            "                                                                 \n",
            " dropout_2 (Dropout)         (None, 128)               0         \n",
            "                                                                 \n",
            " dense_3 (Dense)             (None, 64)                8256      \n",
            "                                                                 \n",
            " batch_normalization_7 (Bat  (None, 64)                256       \n",
            " chNormalization)                                                \n",
            "                                                                 \n",
            " dense_4 (Dense)             (None, 4)                 260       \n",
            "                                                                 \n",
            "=================================================================\n",
            "Total params: 2009827 (7.67 MB)\n",
            "Trainable params: 2006947 (7.66 MB)\n",
            "Non-trainable params: 2880 (11.25 KB)\n",
            "_________________________________________________________________\n"
          ]
        }
      ]
    },
    {
      "cell_type": "code",
      "source": [
        "from tensorflow.keras.optimizers import Adam"
      ],
      "metadata": {
        "execution": {
          "iopub.status.busy": "2023-08-07T14:28:56.221199Z",
          "iopub.execute_input": "2023-08-07T14:28:56.221526Z",
          "iopub.status.idle": "2023-08-07T14:28:56.226925Z",
          "shell.execute_reply.started": "2023-08-07T14:28:56.221495Z",
          "shell.execute_reply": "2023-08-07T14:28:56.226266Z"
        },
        "trusted": true,
        "id": "Z78YnGyAeOpK"
      },
      "execution_count": null,
      "outputs": []
    },
    {
      "cell_type": "code",
      "source": [
        "model.compile(optimizer='adam', loss = 'categorical_crossentropy',metrics = ['accuracy'])\n",
        "\n",
        "history = model.fit(\n",
        "    train_generator,\n",
        "    steps_per_epoch = len(train_generator),\n",
        "    batch_size = 128,\n",
        "    epochs = 30,\n",
        "    validation_data = val_generator, callbacks=callbacks)"
      ],
      "metadata": {
        "execution": {
          "iopub.status.busy": "2023-08-07T14:28:56.231227Z",
          "iopub.execute_input": "2023-08-07T14:28:56.231532Z",
          "iopub.status.idle": "2023-08-07T19:16:55.404361Z",
          "shell.execute_reply.started": "2023-08-07T14:28:56.231501Z",
          "shell.execute_reply": "2023-08-07T19:16:55.403387Z"
        },
        "trusted": true,
        "id": "HAwNrFqleOpK",
        "colab": {
          "base_uri": "https://localhost:8080/"
        },
        "outputId": "ee1eb73b-2e73-4287-caa6-6a562c8263ba"
      },
      "execution_count": null,
      "outputs": [
        {
          "output_type": "stream",
          "name": "stdout",
          "text": [
            "Epoch 1/30\n",
            "137/137 [==============================] - 328s 2s/step - loss: 12.4625 - accuracy: 0.6419 - val_loss: 8.0843 - val_accuracy: 0.1185 - lr: 0.0010\n",
            "Epoch 2/30\n",
            "137/137 [==============================] - 323s 2s/step - loss: 5.0012 - accuracy: 0.7536 - val_loss: 4.8946 - val_accuracy: 0.1105 - lr: 0.0010\n",
            "Epoch 3/30\n",
            "137/137 [==============================] - 323s 2s/step - loss: 2.5430 - accuracy: 0.7815 - val_loss: 4.0787 - val_accuracy: 0.2954 - lr: 0.0010\n",
            "Epoch 4/30\n",
            "137/137 [==============================] - 323s 2s/step - loss: 1.5430 - accuracy: 0.8206 - val_loss: 5.6192 - val_accuracy: 0.2772 - lr: 0.0010\n",
            "Epoch 5/30\n",
            "137/137 [==============================] - 324s 2s/step - loss: 1.1619 - accuracy: 0.8261 - val_loss: 1.9146 - val_accuracy: 0.4225 - lr: 0.0010\n",
            "Epoch 6/30\n",
            "137/137 [==============================] - 324s 2s/step - loss: 0.9853 - accuracy: 0.8413 - val_loss: 2.9071 - val_accuracy: 0.5078 - lr: 0.0010\n",
            "Epoch 7/30\n",
            "137/137 [==============================] - 324s 2s/step - loss: 1.0543 - accuracy: 0.8176 - val_loss: 2.0118 - val_accuracy: 0.4418 - lr: 0.0010\n",
            "Epoch 8/30\n",
            "137/137 [==============================] - 325s 2s/step - loss: 0.8339 - accuracy: 0.8598 - val_loss: 1.0398 - val_accuracy: 0.7764 - lr: 0.0010\n",
            "Epoch 9/30\n",
            "137/137 [==============================] - 323s 2s/step - loss: 0.7857 - accuracy: 0.8657 - val_loss: 1.2111 - val_accuracy: 0.7298 - lr: 0.0010\n",
            "Epoch 10/30\n",
            "137/137 [==============================] - 323s 2s/step - loss: 0.8061 - accuracy: 0.8684 - val_loss: 1.0706 - val_accuracy: 0.7185 - lr: 0.0010\n",
            "Epoch 11/30\n",
            "137/137 [==============================] - 324s 2s/step - loss: 0.6026 - accuracy: 0.9232 - val_loss: 0.5718 - val_accuracy: 0.9260 - lr: 1.0000e-04\n",
            "Epoch 12/30\n",
            "137/137 [==============================] - 323s 2s/step - loss: 0.5140 - accuracy: 0.9434 - val_loss: 0.5343 - val_accuracy: 0.9223 - lr: 1.0000e-04\n",
            "Epoch 13/30\n",
            "137/137 [==============================] - 324s 2s/step - loss: 0.4599 - accuracy: 0.9529 - val_loss: 0.4217 - val_accuracy: 0.9603 - lr: 1.0000e-04\n",
            "Epoch 14/30\n",
            "137/137 [==============================] - 324s 2s/step - loss: 0.4155 - accuracy: 0.9583 - val_loss: 0.4924 - val_accuracy: 0.9212 - lr: 1.0000e-04\n",
            "Epoch 15/30\n",
            "137/137 [==============================] - 323s 2s/step - loss: 0.3879 - accuracy: 0.9613 - val_loss: 0.3566 - val_accuracy: 0.9668 - lr: 1.0000e-04\n",
            "Epoch 16/30\n",
            "137/137 [==============================] - 322s 2s/step - loss: 0.3619 - accuracy: 0.9641 - val_loss: 0.3533 - val_accuracy: 0.9635 - lr: 1.0000e-04\n",
            "Epoch 17/30\n",
            "137/137 [==============================] - 324s 2s/step - loss: 0.3522 - accuracy: 0.9614 - val_loss: 0.3052 - val_accuracy: 0.9780 - lr: 1.0000e-04\n",
            "Epoch 18/30\n",
            "137/137 [==============================] - 324s 2s/step - loss: 0.3724 - accuracy: 0.9533 - val_loss: 0.3997 - val_accuracy: 0.9324 - lr: 1.0000e-04\n",
            "Epoch 19/30\n",
            "137/137 [==============================] - 322s 2s/step - loss: 0.3344 - accuracy: 0.9643 - val_loss: 0.3048 - val_accuracy: 0.9727 - lr: 1.0000e-04\n",
            "Epoch 20/30\n",
            "137/137 [==============================] - 324s 2s/step - loss: 0.3049 - accuracy: 0.9716 - val_loss: 0.2926 - val_accuracy: 0.9694 - lr: 1.0000e-04\n",
            "Epoch 21/30\n",
            "137/137 [==============================] - 324s 2s/step - loss: 0.2810 - accuracy: 0.9785 - val_loss: 0.2653 - val_accuracy: 0.9839 - lr: 1.0000e-05\n",
            "Epoch 22/30\n",
            "137/137 [==============================] - 323s 2s/step - loss: 0.2755 - accuracy: 0.9790 - val_loss: 0.2583 - val_accuracy: 0.9855 - lr: 1.0000e-05\n",
            "Epoch 23/30\n",
            "137/137 [==============================] - 325s 2s/step - loss: 0.2641 - accuracy: 0.9828 - val_loss: 0.2524 - val_accuracy: 0.9855 - lr: 1.0000e-05\n",
            "Epoch 24/30\n",
            "137/137 [==============================] - 324s 2s/step - loss: 0.2669 - accuracy: 0.9804 - val_loss: 0.2493 - val_accuracy: 0.9893 - lr: 1.0000e-05\n",
            "Epoch 25/30\n",
            "137/137 [==============================] - 324s 2s/step - loss: 0.2655 - accuracy: 0.9788 - val_loss: 0.2500 - val_accuracy: 0.9866 - lr: 1.0000e-05\n",
            "Epoch 26/30\n",
            "137/137 [==============================] - 323s 2s/step - loss: 0.2558 - accuracy: 0.9832 - val_loss: 0.2485 - val_accuracy: 0.9861 - lr: 1.0000e-05\n",
            "Epoch 27/30\n",
            "137/137 [==============================] - 324s 2s/step - loss: 0.2590 - accuracy: 0.9807 - val_loss: 0.2427 - val_accuracy: 0.9882 - lr: 1.0000e-05\n",
            "Epoch 28/30\n",
            "137/137 [==============================] - 324s 2s/step - loss: 0.2507 - accuracy: 0.9843 - val_loss: 0.2397 - val_accuracy: 0.9866 - lr: 1.0000e-05\n",
            "Epoch 29/30\n",
            "137/137 [==============================] - 325s 2s/step - loss: 0.2456 - accuracy: 0.9854 - val_loss: 0.2383 - val_accuracy: 0.9855 - lr: 1.0000e-05\n",
            "Epoch 30/30\n",
            "137/137 [==============================] - 324s 2s/step - loss: 0.2433 - accuracy: 0.9862 - val_loss: 0.2321 - val_accuracy: 0.9866 - lr: 1.0000e-05\n"
          ]
        }
      ]
    },
    {
      "cell_type": "code",
      "source": [
        "model.save('kidney_prediction.h5')"
      ],
      "metadata": {
        "id": "85UZ1Cs0i6Ws",
        "colab": {
          "base_uri": "https://localhost:8080/"
        },
        "outputId": "db60cd10-7eb5-4662-d9e1-cc18458cc7a7"
      },
      "execution_count": null,
      "outputs": [
        {
          "output_type": "stream",
          "name": "stderr",
          "text": [
            "/usr/local/lib/python3.10/dist-packages/keras/src/engine/training.py:3103: UserWarning: You are saving your model as an HDF5 file via `model.save()`. This file format is considered legacy. We recommend using instead the native Keras format, e.g. `model.save('my_model.keras')`.\n",
            "  saving_api.save_model(\n"
          ]
        }
      ]
    },
    {
      "cell_type": "code",
      "source": [
        "model = tf.keras.models.load_model(r\"/content/kidney_prediction.h5\", custom_objects={'spatial_attention': spatial_attention})"
      ],
      "metadata": {
        "id": "x99UQhNji_NO"
      },
      "execution_count": null,
      "outputs": []
    },
    {
      "cell_type": "code",
      "source": [
        "import matplotlib.pyplot as plt\n",
        "\n",
        "plt.plot(history.history['accuracy'])\n",
        "plt.plot(history.history['val_accuracy'])\n",
        "plt.title('CNN Model accuracy values')\n",
        "plt.ylabel('Accuracy')\n",
        "plt.xlabel('Epoch')\n",
        "plt.legend(['Train', 'Test'], loc='upper left')\n",
        "plt.show()"
      ],
      "metadata": {
        "execution": {
          "iopub.status.busy": "2023-08-07T19:16:55.405974Z",
          "iopub.execute_input": "2023-08-07T19:16:55.406325Z",
          "iopub.status.idle": "2023-08-07T19:16:55.705479Z",
          "shell.execute_reply.started": "2023-08-07T19:16:55.406293Z",
          "shell.execute_reply": "2023-08-07T19:16:55.704587Z"
        },
        "trusted": true,
        "id": "cDvK8mMjeOpL",
        "colab": {
          "base_uri": "https://localhost:8080/",
          "height": 472
        },
        "outputId": "9320f143-7878-420e-d87c-e22804b5bac3"
      },
      "execution_count": null,
      "outputs": [
        {
          "output_type": "display_data",
          "data": {
            "text/plain": [
              "<Figure size 640x480 with 1 Axes>"
            ],
            "image/png": "[encoded data removed]"
          },
          "metadata": {}
        }
      ]
    },
    {
      "cell_type": "code",
      "source": [
        "plt.plot(history.history['loss'])\n",
        "plt.plot(history.history['val_loss'])\n",
        "plt.title('CNN Model loss values')\n",
        "plt.ylabel('Loss')\n",
        "plt.xlabel('Epoch')\n",
        "plt.legend(['Train', 'Test'], loc='upper left')\n",
        "plt.show()"
      ],
      "metadata": {
        "execution": {
          "iopub.status.busy": "2023-08-07T19:16:55.706821Z",
          "iopub.execute_input": "2023-08-07T19:16:55.707818Z",
          "iopub.status.idle": "2023-08-07T19:16:55.990661Z",
          "shell.execute_reply.started": "2023-08-07T19:16:55.707783Z",
          "shell.execute_reply": "2023-08-07T19:16:55.989768Z"
        },
        "trusted": true,
        "id": "s8Djc81ueOpL",
        "colab": {
          "base_uri": "https://localhost:8080/",
          "height": 472
        },
        "outputId": "3faec136-b386-4cd0-ff8e-fd4ad90c64eb"
      },
      "execution_count": null,
      "outputs": [
        {
          "output_type": "display_data",
          "data": {
            "text/plain": [
              "<Figure size 640x480 with 1 Axes>"
            ],
            "image/png": "[encoded data removed]"
          },
          "metadata": {}
        }
      ]
    },
    {
      "cell_type": "code",
      "source": [
        "test_datagen = ImageDataGenerator(rescale = 1/255.0)\n",
        "\n",
        "\n",
        "test_generator = train_datagen.flow_from_directory(\n",
        "     './dataset/test',\n",
        "    target_size=(224, 224),\n",
        "    class_mode='categorical',\n",
        "    batch_size = 64,shuffle = False)"
      ],
      "metadata": {
        "execution": {
          "iopub.status.busy": "2023-08-07T19:16:55.991893Z",
          "iopub.execute_input": "2023-08-07T19:16:55.992961Z",
          "iopub.status.idle": "2023-08-07T19:16:56.102544Z",
          "shell.execute_reply.started": "2023-08-07T19:16:55.992925Z",
          "shell.execute_reply": "2023-08-07T19:16:56.10174Z"
        },
        "trusted": true,
        "id": "Hw0jqCVWeOpL",
        "colab": {
          "base_uri": "https://localhost:8080/"
        },
        "outputId": "7b29f446-650e-40a8-fb8f-d6cd065ab1f9"
      },
      "execution_count": null,
      "outputs": [
        {
          "output_type": "stream",
          "name": "stdout",
          "text": [
            "Found 1871 images belonging to 4 classes.\n"
          ]
        }
      ]
    },
    {
      "cell_type": "code",
      "source": [
        "pred = model.predict_generator(test_generator)"
      ],
      "metadata": {
        "execution": {
          "iopub.status.busy": "2023-08-07T19:16:56.103692Z",
          "iopub.execute_input": "2023-08-07T19:16:56.104035Z",
          "iopub.status.idle": "2023-08-07T19:17:23.010269Z",
          "shell.execute_reply.started": "2023-08-07T19:16:56.104Z",
          "shell.execute_reply": "2023-08-07T19:17:23.00929Z"
        },
        "trusted": true,
        "id": "3WmCiAuzeOpL",
        "colab": {
          "base_uri": "https://localhost:8080/"
        },
        "outputId": "9b6fcfde-4942-46c0-d9d6-930b70395042"
      },
      "execution_count": null,
      "outputs": [
        {
          "output_type": "stream",
          "name": "stderr",
          "text": [
            "<ipython-input-19-f79076686fd5>:1: UserWarning: `Model.predict_generator` is deprecated and will be removed in a future version. Please use `Model.predict`, which supports generators.\n",
            "  pred = model.predict_generator(test_generator)\n"
          ]
        }
      ]
    },
    {
      "cell_type": "code",
      "source": [
        "model.evaluate_generator(test_generator)"
      ],
      "metadata": {
        "execution": {
          "iopub.status.busy": "2023-08-07T19:17:23.011968Z",
          "iopub.execute_input": "2023-08-07T19:17:23.012341Z",
          "iopub.status.idle": "2023-08-07T19:17:49.424917Z",
          "shell.execute_reply.started": "2023-08-07T19:17:23.012305Z",
          "shell.execute_reply": "2023-08-07T19:17:49.423751Z"
        },
        "trusted": true,
        "id": "iLTvP5VoeOpL",
        "colab": {
          "base_uri": "https://localhost:8080/"
        },
        "outputId": "9bf9cef5-d2cd-4eab-9293-070eabbaa64c"
      },
      "execution_count": null,
      "outputs": [
        {
          "output_type": "stream",
          "name": "stderr",
          "text": [
            "<ipython-input-20-faa0e9406f88>:1: UserWarning: `Model.evaluate_generator` is deprecated and will be removed in a future version. Please use `Model.evaluate`, which supports generators.\n",
            "  model.evaluate_generator(test_generator)\n"
          ]
        },
        {
          "output_type": "execute_result",
          "data": {
            "text/plain": [
              "[0.22958144545555115, 0.9909139275550842]"
            ]
          },
          "metadata": {},
          "execution_count": 20
        }
      ]
    },
    {
      "cell_type": "code",
      "source": [
        "import  numpy as np\n",
        "y_pred = np.argmax(pred, axis = 1)\n",
        "y_pred"
      ],
      "metadata": {
        "execution": {
          "iopub.status.busy": "2023-08-07T19:17:49.426245Z",
          "iopub.execute_input": "2023-08-07T19:17:49.426676Z",
          "iopub.status.idle": "2023-08-07T19:17:49.434378Z",
          "shell.execute_reply.started": "2023-08-07T19:17:49.426639Z",
          "shell.execute_reply": "2023-08-07T19:17:49.433273Z"
        },
        "trusted": true,
        "id": "CMk7s9eHeOpL",
        "colab": {
          "base_uri": "https://localhost:8080/"
        },
        "outputId": "9ae41513-ed03-42f2-eaf3-3c30652fe670"
      },
      "execution_count": null,
      "outputs": [
        {
          "output_type": "execute_result",
          "data": {
            "text/plain": [
              "array([0, 0, 0, ..., 3, 3, 3])"
            ]
          },
          "metadata": {},
          "execution_count": 22
        }
      ]
    },
    {
      "cell_type": "code",
      "source": [
        "y_true = test_generator.classes"
      ],
      "metadata": {
        "execution": {
          "iopub.status.busy": "2023-08-07T19:17:49.435881Z",
          "iopub.execute_input": "2023-08-07T19:17:49.436349Z",
          "iopub.status.idle": "2023-08-07T19:17:49.444365Z",
          "shell.execute_reply.started": "2023-08-07T19:17:49.436309Z",
          "shell.execute_reply": "2023-08-07T19:17:49.443492Z"
        },
        "trusted": true,
        "id": "mHy4ianxeOpL"
      },
      "execution_count": null,
      "outputs": []
    },
    {
      "cell_type": "code",
      "source": [
        "from sklearn.metrics import confusion_matrix\n",
        "\n",
        "cm = confusion_matrix(y_true, y_pred)\n",
        "cm"
      ],
      "metadata": {
        "execution": {
          "iopub.status.busy": "2023-08-07T19:17:49.446833Z",
          "iopub.execute_input": "2023-08-07T19:17:49.447106Z",
          "iopub.status.idle": "2023-08-07T19:17:49.462555Z",
          "shell.execute_reply.started": "2023-08-07T19:17:49.447083Z",
          "shell.execute_reply": "2023-08-07T19:17:49.46164Z"
        },
        "trusted": true,
        "id": "8VtY_b2GeOpL",
        "colab": {
          "base_uri": "https://localhost:8080/"
        },
        "outputId": "51a0c89c-8a3b-4f38-fe6f-3051a35a5e0e"
      },
      "execution_count": null,
      "outputs": [
        {
          "output_type": "execute_result",
          "data": {
            "text/plain": [
              "array([[555,   0,   2,   0],\n",
              "       [  0, 759,   0,   4],\n",
              "       [  8,   0, 200,   0],\n",
              "       [  5,   3,   0, 335]])"
            ]
          },
          "metadata": {},
          "execution_count": 24
        }
      ]
    },
    {
      "cell_type": "code",
      "source": [
        "from sklearn.metrics import classification_report\n",
        "\n",
        "report = classification_report(y_true, y_pred)\n",
        "print(report)"
      ],
      "metadata": {
        "execution": {
          "iopub.status.busy": "2023-08-07T19:17:49.464131Z",
          "iopub.execute_input": "2023-08-07T19:17:49.464599Z",
          "iopub.status.idle": "2023-08-07T19:17:49.481188Z",
          "shell.execute_reply.started": "2023-08-07T19:17:49.464564Z",
          "shell.execute_reply": "2023-08-07T19:17:49.480363Z"
        },
        "trusted": true,
        "id": "Q0JK4uOLeOpL",
        "colab": {
          "base_uri": "https://localhost:8080/"
        },
        "outputId": "ba2c1bfa-346a-49d8-c85c-5395789e22af"
      },
      "execution_count": null,
      "outputs": [
        {
          "output_type": "stream",
          "name": "stdout",
          "text": [
            "              precision    recall  f1-score   support\n",
            "\n",
            "           0       0.98      1.00      0.99       557\n",
            "           1       1.00      0.99      1.00       763\n",
            "           2       0.99      0.96      0.98       208\n",
            "           3       0.99      0.98      0.98       343\n",
            "\n",
            "    accuracy                           0.99      1871\n",
            "   macro avg       0.99      0.98      0.99      1871\n",
            "weighted avg       0.99      0.99      0.99      1871\n",
            "\n"
          ]
        }
      ]
    },
    {
      "cell_type": "code",
      "source": [
        "import seaborn as sns\n",
        "sns.heatmap(cm, annot = True)"
      ],
      "metadata": {
        "execution": {
          "iopub.status.busy": "2023-08-07T19:17:49.482341Z",
          "iopub.execute_input": "2023-08-07T19:17:49.482738Z",
          "iopub.status.idle": "2023-08-07T19:17:49.81378Z",
          "shell.execute_reply.started": "2023-08-07T19:17:49.482689Z",
          "shell.execute_reply": "2023-08-07T19:17:49.812867Z"
        },
        "trusted": true,
        "id": "30wBxlN7eOpL",
        "colab": {
          "base_uri": "https://localhost:8080/",
          "height": 447
        },
        "outputId": "cc41c573-f9f4-4b51-b793-424f391c3400"
      },
      "execution_count": null,
      "outputs": [
        {
          "output_type": "execute_result",
          "data": {
            "text/plain": [
              "<Axes: >"
            ]
          },
          "metadata": {},
          "execution_count": 26
        },
        {
          "output_type": "display_data",
          "data": {
            "text/plain": [
              "<Figure size 640x480 with 2 Axes>"
            ],
            "image/png": "[encoded data removed]"
          },
          "metadata": {}
        }
      ]
    }
  ]
}